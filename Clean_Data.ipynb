{
 "cells": [
  {
   "cell_type": "code",
   "execution_count": 30,
   "metadata": {},
   "outputs": [],
   "source": [
    "import os\n",
    "import pandas as pd \n",
    "import numpy as np"
   ]
  },
  {
   "cell_type": "code",
   "execution_count": 31,
   "metadata": {},
   "outputs": [],
   "source": [
    "def count_performance_rows():\n",
    "    PROCESSED_DIR = \"/home/seb/Documents/prepayment/processed/\"\n",
    "    foreclosure_counts={}\n",
    "    # read data from files\n",
    "    # NOTE: Opening a file handler to read rather than Pandas.\n",
    "    # Reason : We want to re\n",
    "    with open(os.path.join(PROCESSED_DIR,\"Performance.csv\"),\"r\") as f:\n",
    "        for i,line in enumerate(f):\n",
    "            if i==0:\n",
    "                continue\n",
    "            loan_id,date=line.split(\",\")\n",
    "            loan_id=int(loan_id)\n",
    "            if loan_id not in foreclosure_counts:\n",
    "                foreclosure_counts[loan_id]= {\n",
    "                    \"foreclosure_status\": False,\n",
    "                    \"performance_count\": 0\n",
    "                } # initialize dict\n",
    "\n",
    "            foreclosure_counts[loan_id][\"performance_count\"]+=1\n",
    "            if len(date.strip())>0:\n",
    "                foreclosure_counts[loan_id][\"foreclosure_status\"]=True\n",
    "    return foreclosure_counts"
   ]
  },
  {
   "cell_type": "code",
   "execution_count": 32,
   "metadata": {},
   "outputs": [],
   "source": [
    "def get_summary_of_performance(loan_id,key,foreclosure_count_dictionary):\n",
    "    #The get method on dictionaries returns a default value if a key isn’t found.\n",
    "    summary_value=foreclosure_count_dictionary.get(loan_id,{ \n",
    "        \"foreclosure_status\": False,\n",
    "        \"performance_count\": 0\n",
    "        })\n",
    "    return summary_value[key]"
   ]
  },
  {
   "cell_type": "code",
   "execution_count": 33,
   "metadata": {},
   "outputs": [],
   "source": [
    "def data_transform(acquisition,counts):\n",
    "    MINIMUM_TRACKING_QUARTERS=2\n",
    "    # add \"foreclosure_status\" column in acquisition dataframe by getting the values from the counts dictionary\n",
    "    acquisition[\"foreclosure_status\"]=acquisition[\"id\"].apply(lambda x: get_summary_of_performance(x,\"foreclosure_status\",counts))\n",
    "\n",
    "    # add \"performance_count\" column in acquisition dataframe by getting the values from the counts dictionary.\n",
    "    acquisition[\"performance_count\"]=acquisition[\"id\"].apply(lambda x: get_summary_of_performance(x,\"performance_count\",counts))\n",
    "\n",
    "    # convert date values - \"first_payment_date\" and \"origination_date\"\n",
    "    for date in [\"origination\"]:\n",
    "        cols=\"{}_date\".format(date)\n",
    "        acquisition[\"{}_month\".format(date)]= pd.to_numeric(acquisition[cols].str.split('/').str.get(0))\n",
    "        acquisition[\"{}_year\".format(date)] = pd.to_numeric(acquisition[cols].str.split('/').str.get(1))\n",
    "\n",
    "    acquisition = acquisition.fillna(-1)\n",
    "    acquisition = acquisition[acquisition[\"performance_count\"] > MINIMUM_TRACKING_QUARTERS]\n",
    "    return acquisition"
   ]
  },
  {
   "cell_type": "code",
   "execution_count": 34,
   "metadata": {},
   "outputs": [],
   "source": [
    "def read():\n",
    "    PROCESSED_DIR = \"/home/seb/Documents/prepayment/processed/\"\n",
    "    acquisition = pd.read_csv(os.path.join(PROCESSED_DIR, \"Acquisition.csv\"))\n",
    "    return acquisition "
   ]
  },
  {
   "cell_type": "code",
   "execution_count": 35,
   "metadata": {},
   "outputs": [],
   "source": [
    "def write(acquisition):\n",
    "    PROCESSED_DIR = \"/home/seb/Documents/prepayment/processed/\"\n",
    "    acquisition.to_csv(os.path.join(PROCESSED_DIR, \"train.csv\"),index=False)"
   ]
  },
  {
   "cell_type": "code",
   "execution_count": 36,
   "metadata": {},
   "outputs": [],
   "source": [
    "acquisition=read()\n",
    "counts=count_performance_rows()\n",
    "acquisition=data_transform(acquisition,counts)\n",
    "write(acquisition)"
   ]
  },
  {
   "cell_type": "code",
   "execution_count": 37,
   "metadata": {},
   "outputs": [
    {
     "name": "stdout",
     "output_type": "stream",
     "text": [
      "                   id  interest_rate origination_date  ltv   dti  \\\n",
      "0        100000506220          4.750          02/2014   80  40.0   \n",
      "1        100006392566          3.500          01/2014   68  35.0   \n",
      "2        100007679737          5.000          02/2014   80  31.0   \n",
      "3        100008410787          4.375          12/2013   80  27.0   \n",
      "4        100009360302          5.250          01/2014   80  38.0   \n",
      "5        100013156268          4.625          01/2014   78  33.0   \n",
      "6        100014615428          4.875          02/2014   80  44.0   \n",
      "7        100018134297          4.375          12/2013   80  34.0   \n",
      "8        100018812676          4.375          02/2014   49  18.0   \n",
      "9        100023715413          5.000          01/2014   95  45.0   \n",
      "10       100024428873          4.500          11/2013   62  34.0   \n",
      "11       100029809089          4.500          01/2014   95  35.0   \n",
      "12       100032422945          3.875          01/2014   79  42.0   \n",
      "13       100033144008          5.125          01/2014   80  23.0   \n",
      "14       100037514110          4.500          02/2014   75  22.0   \n",
      "15       100038767840          4.625          02/2014   95  45.0   \n",
      "16       100041794880          4.625          01/2014   79  32.0   \n",
      "17       100044671015          4.375          12/2013   80  48.0   \n",
      "18       100045268636          4.500          01/2014   80  38.0   \n",
      "19       100051808276          4.375          12/2013   80  29.0   \n",
      "20       100053110379          4.625          01/2014   80  34.0   \n",
      "21       100063209542          4.875          12/2013   64  47.0   \n",
      "22       100063585030          4.313          02/2014   74  29.0   \n",
      "23       100065939760          4.375          11/2013   90  20.0   \n",
      "24       100068982783          4.750          01/2014   95  35.0   \n",
      "25       100074726334          4.625          12/2013   72  44.0   \n",
      "26       100075014104          3.000          12/2013   59  13.0   \n",
      "27       100082978071          4.500          01/2014   85  37.0   \n",
      "28       100086913554          4.875          12/2013   46  37.0   \n",
      "29       100088092726          4.875          12/2013   54  42.0   \n",
      "...               ...            ...              ...  ...   ...   \n",
      "3780232  999962303722          3.250          01/2013   62  29.0   \n",
      "3780233  999964585043          2.875          11/2012   73  23.0   \n",
      "3780234  999965422664          3.250          01/2013   47  34.0   \n",
      "3780235  999965809733          2.875          01/2013   78  12.0   \n",
      "3780236  999966510251          3.625          01/2013   80  32.0   \n",
      "3780237  999967255987          2.500          12/2012   80  34.0   \n",
      "3780238  999969318441          3.375          01/2013   80  48.0   \n",
      "3780239  999969573109          3.750          01/2013   80  40.0   \n",
      "3780240  999971374977          3.500          11/2012   80  29.0   \n",
      "3780241  999971736659          3.500          01/2013   90  16.0   \n",
      "3780242  999973484851          4.875          08/2012   80  34.0   \n",
      "3780243  999975408914          3.500          01/2013   90  29.0   \n",
      "3780244  999977475487          3.375          01/2013   90  44.0   \n",
      "3780245  999980017188          3.375          12/2012   90  24.0   \n",
      "3780246  999980406472          3.500          12/2012   69  19.0   \n",
      "3780247  999981369903          2.750          01/2013   80  32.0   \n",
      "3780248  999982523514          2.500          02/2013   44  15.0   \n",
      "3780249  999983064032          3.875          03/2013   86  39.0   \n",
      "3780250  999987208061          3.375          01/2013   28  41.0   \n",
      "3780251  999988334586          2.750          12/2012   65  33.0   \n",
      "3780252  999988635294          3.375          02/2013   80  27.0   \n",
      "3780253  999990472291          3.375          03/2013   70  44.0   \n",
      "3780254  999991989874          3.125          12/2012   80  15.0   \n",
      "3780255  999996106362          3.000          01/2013   79  39.0   \n",
      "3780256  999997337661          3.125          02/2013   37  27.0   \n",
      "3780257  999997968364          3.750          02/2013   90  20.0   \n",
      "3780258  999998408873          3.750          01/2013   60  23.0   \n",
      "3780259  999998760873          3.625          03/2013   56  37.0   \n",
      "3780260  999999088860          3.625          03/2013   75  31.0   \n",
      "3780261  999999606976          3.625          01/2013   75  40.0   \n",
      "\n",
      "         credit_score  foreclosure_status  performance_count  \\\n",
      "0               710.0               False                 32   \n",
      "1               742.0               False                 55   \n",
      "2               647.0               False                 41   \n",
      "3               774.0               False                 24   \n",
      "4               820.0               False                 45   \n",
      "5               656.0               False                 44   \n",
      "6               756.0               False                  6   \n",
      "7               808.0               False                 56   \n",
      "8               779.0               False                 10   \n",
      "9               780.0               False                 23   \n",
      "10              727.0               False                 55   \n",
      "11              787.0               False                 16   \n",
      "12              811.0               False                 56   \n",
      "13              793.0               False                  9   \n",
      "14              793.0               False                 43   \n",
      "15              741.0               False                 55   \n",
      "16              753.0               False                 56   \n",
      "17              788.0               False                 57   \n",
      "18              783.0               False                 36   \n",
      "19              791.0               False                 56   \n",
      "20              726.0               False                 55   \n",
      "21              745.0               False                 16   \n",
      "22              773.0               False                 29   \n",
      "23              762.0               False                 57   \n",
      "24              796.0               False                 10   \n",
      "25              770.0               False                 20   \n",
      "26              797.0               False                 57   \n",
      "27              739.0               False                 31   \n",
      "28              704.0               False                 24   \n",
      "29              705.0               False                 27   \n",
      "...               ...                 ...                ...   \n",
      "3780232         790.0               False                 68   \n",
      "3780233         767.0               False                 69   \n",
      "3780234         709.0               False                 69   \n",
      "3780235         734.0               False                 67   \n",
      "3780236         793.0               False                 68   \n",
      "3780237         800.0               False                 69   \n",
      "3780238         790.0               False                 68   \n",
      "3780239         778.0               False                 33   \n",
      "3780240         729.0               False                 49   \n",
      "3780241         811.0               False                 14   \n",
      "3780242         706.0               False                 68   \n",
      "3780243         740.0               False                 67   \n",
      "3780244         747.0               False                 63   \n",
      "3780245         793.0               False                 69   \n",
      "3780246         792.0               False                 67   \n",
      "3780247         808.0               False                 47   \n",
      "3780248         771.0               False                 47   \n",
      "3780249         684.0               False                 67   \n",
      "3780250         795.0               False                 68   \n",
      "3780251         725.0               False                 27   \n",
      "3780252         774.0               False                 67   \n",
      "3780253         801.0               False                 41   \n",
      "3780254         786.0               False                 42   \n",
      "3780255         757.0               False                 69   \n",
      "3780256         789.0               False                 59   \n",
      "3780257         795.0               False                 67   \n",
      "3780258         723.0               False                 67   \n",
      "3780259         761.0               False                 67   \n",
      "3780260         802.0               False                 67   \n",
      "3780261         775.0               False                 68   \n",
      "\n",
      "         origination_month  origination_year  \n",
      "0                        2              2014  \n",
      "1                        1              2014  \n",
      "2                        2              2014  \n",
      "3                       12              2013  \n",
      "4                        1              2014  \n",
      "5                        1              2014  \n",
      "6                        2              2014  \n",
      "7                       12              2013  \n",
      "8                        2              2014  \n",
      "9                        1              2014  \n",
      "10                      11              2013  \n",
      "11                       1              2014  \n",
      "12                       1              2014  \n",
      "13                       1              2014  \n",
      "14                       2              2014  \n",
      "15                       2              2014  \n",
      "16                       1              2014  \n",
      "17                      12              2013  \n",
      "18                       1              2014  \n",
      "19                      12              2013  \n",
      "20                       1              2014  \n",
      "21                      12              2013  \n",
      "22                       2              2014  \n",
      "23                      11              2013  \n",
      "24                       1              2014  \n",
      "25                      12              2013  \n",
      "26                      12              2013  \n",
      "27                       1              2014  \n",
      "28                      12              2013  \n",
      "29                      12              2013  \n",
      "...                    ...               ...  \n",
      "3780232                  1              2013  \n",
      "3780233                 11              2012  \n",
      "3780234                  1              2013  \n",
      "3780235                  1              2013  \n",
      "3780236                  1              2013  \n",
      "3780237                 12              2012  \n",
      "3780238                  1              2013  \n",
      "3780239                  1              2013  \n",
      "3780240                 11              2012  \n",
      "3780241                  1              2013  \n",
      "3780242                  8              2012  \n",
      "3780243                  1              2013  \n",
      "3780244                  1              2013  \n",
      "3780245                 12              2012  \n",
      "3780246                 12              2012  \n",
      "3780247                  1              2013  \n",
      "3780248                  2              2013  \n",
      "3780249                  3              2013  \n",
      "3780250                  1              2013  \n",
      "3780251                 12              2012  \n",
      "3780252                  2              2013  \n",
      "3780253                  3              2013  \n",
      "3780254                 12              2012  \n",
      "3780255                  1              2013  \n",
      "3780256                  2              2013  \n",
      "3780257                  2              2013  \n",
      "3780258                  1              2013  \n",
      "3780259                  3              2013  \n",
      "3780260                  3              2013  \n",
      "3780261                  1              2013  \n",
      "\n",
      "[3780262 rows x 10 columns]\n"
     ]
    }
   ],
   "source": [
    "file = '/home/seb/Documents/prepayment/processed/train.csv'\n",
    "df=pd.read_csv(file)\n",
    "print(df)"
   ]
  },
  {
   "cell_type": "code",
   "execution_count": 46,
   "metadata": {},
   "outputs": [],
   "source": [
    "default_list = df[\"foreclosure_status\"].tolist()"
   ]
  },
  {
   "cell_type": "code",
   "execution_count": 47,
   "metadata": {
    "scrolled": true
   },
   "outputs": [
    {
     "name": "stdout",
     "output_type": "stream",
     "text": [
      "4229\n"
     ]
    }
   ],
   "source": [
    "default_count= 0\n",
    "for i in default_list:\n",
    "    if i is True:\n",
    "        default_count+= 1\n",
    "print(default_count)"
   ]
  },
  {
   "cell_type": "code",
   "execution_count": 48,
   "metadata": {},
   "outputs": [
    {
     "data": {
      "text/plain": [
       "0.0011187055288760408"
      ]
     },
     "execution_count": 48,
     "metadata": {},
     "output_type": "execute_result"
    }
   ],
   "source": [
    "4229 / 3780262"
   ]
  },
  {
   "cell_type": "code",
   "execution_count": null,
   "metadata": {},
   "outputs": [],
   "source": []
  }
 ],
 "metadata": {
  "kernelspec": {
   "display_name": "Python 3",
   "language": "python",
   "name": "python3"
  },
  "language_info": {
   "codemirror_mode": {
    "name": "ipython",
    "version": 3
   },
   "file_extension": ".py",
   "mimetype": "text/x-python",
   "name": "python",
   "nbconvert_exporter": "python",
   "pygments_lexer": "ipython3",
   "version": "3.7.1"
  }
 },
 "nbformat": 4,
 "nbformat_minor": 2
}
