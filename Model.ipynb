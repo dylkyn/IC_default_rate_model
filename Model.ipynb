{
 "cells": [
  {
   "cell_type": "code",
   "execution_count": 24,
   "metadata": {},
   "outputs": [],
   "source": [
    "import os\n",
    "import numpy as np \n",
    "import pandas as pd\n",
    "from sklearn.model_selection import cross_val_predict\n",
    "from sklearn.linear_model import LogisticRegression\n",
    "from sklearn import metrics\n",
    "from sklearn import svm\n",
    "import matplotlib.pyplot as plt"
   ]
  },
  {
   "cell_type": "code",
   "execution_count": 25,
   "metadata": {},
   "outputs": [],
   "source": [
    "def model(train):\n",
    "    model=LogisticRegression(random_state=1,class_weight=\"balanced\")\n",
    "    #model = svm.LinearSVC(class_weight=\"balanced\", random_state=1)\n",
    "    predictors=train.columns.tolist()\n",
    "    excluded_features=[\"foreclosure_status\", \"id\", \"origination_date\", \"origination_month\", \"origination_year\"]\n",
    "    predictors = [p for p in predictors if p not in excluded_features]\n",
    "\n",
    "    predictions = cross_val_predict(model,train[predictors],train[\"foreclosure_status\"],cv=3)\n",
    "\n",
    "    return predictions"
   ]
  },
  {
   "cell_type": "code",
   "execution_count": 26,
   "metadata": {},
   "outputs": [],
   "source": [
    "def compute_error(target,predictions):\n",
    "    return metrics.accuracy_score(target,predictions)"
   ]
  },
  {
   "cell_type": "code",
   "execution_count": 27,
   "metadata": {},
   "outputs": [],
   "source": [
    "def compute_false_negatives(target,predictions):\n",
    "    false_negatives=pd.DataFrame({\"target\":target,\"predictions\":predictions})\n",
    "    neg_rate=false_negatives[(false_negatives[\"target\"]==1) & (false_negatives[\"predictions\"]==0)].shape[0]/(false_negatives[(false_negatives[\"target\"]==1)].shape[0]+1)\n",
    "    return neg_rate"
   ]
  },
  {
   "cell_type": "code",
   "execution_count": 28,
   "metadata": {},
   "outputs": [],
   "source": [
    "def compute_false_positive(target,predictions):\n",
    "    false_positives=pd.DataFrame({\"target\":target,\"predictions\":predictions})\n",
    "    pos_rate=false_positives[(false_positives[\"target\"]==0) & (false_positives[\"predictions\"]==1)].shape[0]/(false_positives[(false_positives[\"target\"]==0)].shape[0]+1)\n",
    "    return pos_rate"
   ]
  },
  {
   "cell_type": "code",
   "execution_count": 29,
   "metadata": {},
   "outputs": [],
   "source": [
    "def read():\n",
    "    PROCESSED_DIR = \"/home/seb/Documents/prepayment/processed/\"\n",
    "    train=pd.read_csv(os.path.join(PROCESSED_DIR,\"train.csv\"))\n",
    "    return train"
   ]
  },
  {
   "cell_type": "code",
   "execution_count": 31,
   "metadata": {
    "scrolled": true
   },
   "outputs": [
    {
     "name": "stderr",
     "output_type": "stream",
     "text": [
      "/home/seb/anaconda3/envs/ml/lib/python3.7/site-packages/sklearn/linear_model/logistic.py:433: FutureWarning: Default solver will be changed to 'lbfgs' in 0.22. Specify a solver to silence this warning.\n",
      "  FutureWarning)\n",
      "/home/seb/anaconda3/envs/ml/lib/python3.7/site-packages/sklearn/linear_model/logistic.py:433: FutureWarning: Default solver will be changed to 'lbfgs' in 0.22. Specify a solver to silence this warning.\n",
      "  FutureWarning)\n",
      "/home/seb/anaconda3/envs/ml/lib/python3.7/site-packages/sklearn/linear_model/logistic.py:433: FutureWarning: Default solver will be changed to 'lbfgs' in 0.22. Specify a solver to silence this warning.\n",
      "  FutureWarning)\n"
     ]
    },
    {
     "name": "stdout",
     "output_type": "stream",
     "text": [
      "Accuracy of the model:0.7081416579062509\n",
      "False Negatives:0.2657210401891253\n",
      "False Positive:0.2918874671149677\n"
     ]
    },
    {
     "ename": "NameError",
     "evalue": "name 'cm' is not defined",
     "output_type": "error",
     "traceback": [
      "\u001b[0;31m---------------------------------------------------------------\u001b[0m",
      "\u001b[0;31mNameError\u001b[0m                     Traceback (most recent call last)",
      "\u001b[0;32m<ipython-input-31-40b84a744ccb>\u001b[0m in \u001b[0;36m<module>\u001b[0;34m\u001b[0m\n\u001b[1;32m     10\u001b[0m \u001b[0;34m\u001b[0m\u001b[0m\n\u001b[1;32m     11\u001b[0m \u001b[0;31m#cm = confusion_matrix(train[\"foreclosure_status\"],predictions)\u001b[0m\u001b[0;34m\u001b[0m\u001b[0;34m\u001b[0m\u001b[0;34m\u001b[0m\u001b[0m\n\u001b[0;32m---> 12\u001b[0;31m \u001b[0mprint\u001b[0m\u001b[0;34m(\u001b[0m\u001b[0mcm\u001b[0m\u001b[0;34m)\u001b[0m\u001b[0;34m\u001b[0m\u001b[0;34m\u001b[0m\u001b[0m\n\u001b[0m",
      "\u001b[0;31mNameError\u001b[0m: name 'cm' is not defined"
     ]
    }
   ],
   "source": [
    "train=read()\n",
    "train=train.drop([\"origination_date\"],1)\n",
    "predictions=model(train)\n",
    "model_error=compute_error(train[\"foreclosure_status\"],predictions)\n",
    "FN=compute_false_negatives(train[\"foreclosure_status\"],predictions)\n",
    "FP=compute_false_positive(train[\"foreclosure_status\"],predictions)\n",
    "print(\"Accuracy of the model:{}\".format(model_error))\n",
    "print(\"False Negatives:{}\".format(FN))\n",
    "print(\"False Positive:{}\".format(FP))\n",
    "\n",
    "#cm = confusion_matrix(train[\"foreclosure_status\"],predictions)\n",
    "print(cm)\n"
   ]
  },
  {
   "cell_type": "markdown",
   "metadata": {},
   "source": [
    "Accuracy of the model:0.7081416579062509\n",
    "\n",
    "False Negatives:0.2657210401891253\n",
    "\n",
    "False Positive:0.2918874671149677"
   ]
  },
  {
   "cell_type": "code",
   "execution_count": null,
   "metadata": {},
   "outputs": [],
   "source": []
  }
 ],
 "metadata": {
  "kernelspec": {
   "display_name": "Python 3",
   "language": "python",
   "name": "python3"
  },
  "language_info": {
   "codemirror_mode": {
    "name": "ipython",
    "version": 3
   },
   "file_extension": ".py",
   "mimetype": "text/x-python",
   "name": "python",
   "nbconvert_exporter": "python",
   "pygments_lexer": "ipython3",
   "version": "3.7.1"
  }
 },
 "nbformat": 4,
 "nbformat_minor": 2
}
