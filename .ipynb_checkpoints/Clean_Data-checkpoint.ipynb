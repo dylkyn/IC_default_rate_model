{
 "cells": [
  {
   "cell_type": "code",
   "execution_count": 1,
   "metadata": {},
   "outputs": [],
   "source": [
    "import os\n",
    "import pandas as pd \n",
    "import numpy as np"
   ]
  },
  {
   "cell_type": "code",
   "execution_count": 19,
   "metadata": {},
   "outputs": [],
   "source": [
    "def count_performance_rows():\n",
    "    PROCESSED_DIR = \"/home/seb/Documents/prepayment/processed/\"\n",
    "    foreclosure_counts={}\n",
    "    # read data from files\n",
    "    # NOTE: Opening a file handler to read rather than Pandas.\n",
    "    # Reason : We want to re\n",
    "    with open(os.path.join(PROCESSED_DIR,\"Performance.csv\"),\"r\") as f:\n",
    "        for i,line in enumerate(f):\n",
    "            if i==0:\n",
    "                continue\n",
    "            loan_id,date=line.split(\",\")\n",
    "            loan_id=int(loan_id)\n",
    "            if loan_id not in foreclosure_counts:\n",
    "                foreclosure_counts[loan_id]= {\n",
    "                    \"foreclosure_status\": False,\n",
    "                    \"performance_count\": 0\n",
    "                } # initialize dict\n",
    "\n",
    "            foreclosure_counts[loan_id][\"performance_count\"]+=1\n",
    "            if len(date.strip())>0:\n",
    "                foreclosure_counts[loan_id][\"foreclosure_status\"]=True\n",
    "    return foreclosure_counts"
   ]
  },
  {
   "cell_type": "code",
   "execution_count": 20,
   "metadata": {},
   "outputs": [],
   "source": [
    "def get_summary_of_performance(loan_id,key,foreclosure_count_dictionary):\n",
    "    #The get method on dictionaries returns a default value if a key isn’t found.\n",
    "    summary_value=foreclosure_count_dictionary.get(loan_id,{ \n",
    "        \"foreclosure_status\": False,\n",
    "        \"performance_count\": 0\n",
    "        })\n",
    "    return summary_value[key]"
   ]
  },
  {
   "cell_type": "code",
   "execution_count": 25,
   "metadata": {},
   "outputs": [],
   "source": [
    "def data_transform(acquisition,counts):\n",
    "    MINIMUM_TRACKING_QUARTERS=2\n",
    "    # add \"foreclosure_status\" column in acquisition dataframe by getting the values from the counts dictionary\n",
    "    acquisition[\"foreclosure_status\"]=acquisition[\"id\"].apply(lambda x: get_summary_of_performance(x,\"foreclosure_status\",counts))\n",
    "\n",
    "    # add \"performance_count\" column in acquisition dataframe by getting the values from the counts dictionary.\n",
    "    acquisition[\"performance_count\"]=acquisition[\"id\"].apply(lambda x: get_summary_of_performance(x,\"performance_count\",counts))\n",
    "\n",
    "    # convert date values - \"first_payment_date\" and \"origination_date\"\n",
    "    for date in [\"origination\"]:\n",
    "        cols=\"{}_date\".format(date)\n",
    "        acquisition[\"{}_month\".format(date)]= pd.to_numeric(acquisition[cols].str.split('/').str.get(0))\n",
    "        acquisition[\"{}_year\".format(date)] = pd.to_numeric(acquisition[cols].str.split('/').str.get(1))\n",
    "\n",
    "    acquisition = acquisition.fillna(-1)\n",
    "    acquisition = acquisition[acquisition[\"performance_count\"] > MINIMUM_TRACKING_QUARTERS]\n",
    "    return acquisition"
   ]
  },
  {
   "cell_type": "code",
   "execution_count": 26,
   "metadata": {},
   "outputs": [],
   "source": [
    "def read():\n",
    "    PROCESSED_DIR = \"/home/seb/Documents/prepayment/processed/\"\n",
    "    acquisition = pd.read_csv(os.path.join(PROCESSED_DIR, \"Acquisition.csv\"))\n",
    "    return acquisition "
   ]
  },
  {
   "cell_type": "code",
   "execution_count": 27,
   "metadata": {},
   "outputs": [],
   "source": [
    "def write(acquisition):\n",
    "    PROCESSED_DIR = \"/home/seb/Documents/prepayment/processed/\"\n",
    "    acquisition.to_csv(os.path.join(PROCESSED_DIR, \"train.csv\"),index=False)"
   ]
  },
  {
   "cell_type": "code",
   "execution_count": 28,
   "metadata": {},
   "outputs": [
    {
     "ename": "NameError",
     "evalue": "name 'st' is not defined",
     "output_type": "error",
     "traceback": [
      "\u001b[0;31m---------------------------------------------------------------\u001b[0m",
      "\u001b[0;31mNameError\u001b[0m                     Traceback (most recent call last)",
      "\u001b[0;32m<ipython-input-28-0f65c5605da2>\u001b[0m in \u001b[0;36m<module>\u001b[0;34m\u001b[0m\n\u001b[1;32m      1\u001b[0m \u001b[0macquisition\u001b[0m\u001b[0;34m=\u001b[0m\u001b[0mread\u001b[0m\u001b[0;34m(\u001b[0m\u001b[0;34m)\u001b[0m\u001b[0;34m\u001b[0m\u001b[0;34m\u001b[0m\u001b[0m\n\u001b[1;32m      2\u001b[0m \u001b[0mcounts\u001b[0m\u001b[0;34m=\u001b[0m\u001b[0mcount_performance_rows\u001b[0m\u001b[0;34m(\u001b[0m\u001b[0;34m)\u001b[0m\u001b[0;34m\u001b[0m\u001b[0;34m\u001b[0m\u001b[0m\n\u001b[0;32m----> 3\u001b[0;31m \u001b[0macquisition\u001b[0m\u001b[0;34m=\u001b[0m\u001b[0mdata_transform\u001b[0m\u001b[0;34m(\u001b[0m\u001b[0macquisition\u001b[0m\u001b[0;34m,\u001b[0m\u001b[0mcounts\u001b[0m\u001b[0;34m)\u001b[0m\u001b[0;34m\u001b[0m\u001b[0;34m\u001b[0m\u001b[0m\n\u001b[0m\u001b[1;32m      4\u001b[0m \u001b[0mwrite\u001b[0m\u001b[0;34m(\u001b[0m\u001b[0macquisition\u001b[0m\u001b[0;34m)\u001b[0m\u001b[0;34m\u001b[0m\u001b[0;34m\u001b[0m\u001b[0m\n",
      "\u001b[0;32m<ipython-input-25-89c6e518b687>\u001b[0m in \u001b[0;36mdata_transform\u001b[0;34m(acquisition, counts)\u001b[0m\n\u001b[1;32m     14\u001b[0m \u001b[0;34m\u001b[0m\u001b[0m\n\u001b[1;32m     15\u001b[0m     \u001b[0macquisition\u001b[0m \u001b[0;34m=\u001b[0m \u001b[0macquisition\u001b[0m\u001b[0;34m.\u001b[0m\u001b[0mfillna\u001b[0m\u001b[0;34m(\u001b[0m\u001b[0;34m-\u001b[0m\u001b[0;36m1\u001b[0m\u001b[0;34m)\u001b[0m\u001b[0;34m\u001b[0m\u001b[0;34m\u001b[0m\u001b[0m\n\u001b[0;32m---> 16\u001b[0;31m     \u001b[0macquisition\u001b[0m \u001b[0;34m=\u001b[0m \u001b[0macquisition\u001b[0m\u001b[0;34m[\u001b[0m\u001b[0macquisition\u001b[0m\u001b[0;34m[\u001b[0m\u001b[0;34m\"performance_count\"\u001b[0m\u001b[0;34m]\u001b[0m \u001b[0;34m>\u001b[0m \u001b[0mst\u001b[0m\u001b[0;34m.\u001b[0m\u001b[0mMINIMUM_TRACKING_QUARTERS\u001b[0m\u001b[0;34m]\u001b[0m\u001b[0;34m\u001b[0m\u001b[0;34m\u001b[0m\u001b[0m\n\u001b[0m\u001b[1;32m     17\u001b[0m     \u001b[0;32mreturn\u001b[0m \u001b[0macquisition\u001b[0m\u001b[0;34m\u001b[0m\u001b[0;34m\u001b[0m\u001b[0m\n",
      "\u001b[0;31mNameError\u001b[0m: name 'st' is not defined"
     ]
    }
   ],
   "source": [
    "acquisition=read()\n",
    "counts=count_performance_rows()\n",
    "acquisition=data_transform(acquisition,counts)\n",
    "write(acquisition)"
   ]
  },
  {
   "cell_type": "code",
   "execution_count": null,
   "metadata": {},
   "outputs": [],
   "source": []
  }
 ],
 "metadata": {
  "kernelspec": {
   "display_name": "Python 3",
   "language": "python",
   "name": "python3"
  },
  "language_info": {
   "codemirror_mode": {
    "name": "ipython",
    "version": 3
   },
   "file_extension": ".py",
   "mimetype": "text/x-python",
   "name": "python",
   "nbconvert_exporter": "python",
   "pygments_lexer": "ipython3",
   "version": "3.7.1"
  }
 },
 "nbformat": 4,
 "nbformat_minor": 2
}
