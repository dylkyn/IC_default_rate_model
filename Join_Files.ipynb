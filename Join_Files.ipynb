{
 "cells": [
  {
   "cell_type": "code",
   "execution_count": 1,
   "metadata": {},
   "outputs": [],
   "source": [
    "import os\n",
    "import pandas as pd"
   ]
  },
  {
   "cell_type": "code",
   "execution_count": 2,
   "metadata": {},
   "outputs": [],
   "source": [
    "HEADERS = {\n",
    "    \"Acquisition\": [\n",
    "        \"id\",\n",
    "        \"channel\",\n",
    "        \"seller\",\n",
    "        \"interest_rate\",\n",
    "        \"balance\",\n",
    "        \"loan_term\",\n",
    "        \"origination_date\",\n",
    "        \"first_payment_date\",\n",
    "        \"ltv\",\n",
    "        \"cltv\",\n",
    "        \"borrower_count\",\n",
    "        \"dti\",\n",
    "        \"credit_score\",\n",
    "        \"first_time_homebuyer\",\n",
    "        \"loan_purpose\",\n",
    "        \"property_type\",\n",
    "        \"unit_count\",\n",
    "        \"occupancy_status\",\n",
    "        \"property_state\",\n",
    "        \"zip\",\n",
    "        \"insurance_percentage\",\n",
    "        \"product_type\",\n",
    "        \"co_borrower_credit_score\",\n",
    "        \"24\",\n",
    "        \"25\"\n",
    "    ],\n",
    "    \"Performance\": [\n",
    "        \"id\",\n",
    "        \"reporting_period\",\n",
    "        \"servicer_name\",\n",
    "        \"interest_rate\",\n",
    "        \"balance\",\n",
    "        \"loan_age\",\n",
    "        \"months_to_maturity\",\n",
    "        \"maturity_date\",\n",
    "        \"msa\",\n",
    "        \"delinquency_status\",\n",
    "        \"modification_flag\",\n",
    "        \"zero_balance_code\",\n",
    "        \"zero_balance_date\",\n",
    "        \"last_paid_installment_date\",\n",
    "        \"foreclosure_date\",\n",
    "        \"disposition_date\",\n",
    "        \"foreclosure_costs\",\n",
    "        \"property_repair_costs\",\n",
    "        \"recovery_costs\",\n",
    "        \"misc_costs\",\n",
    "        \"tax_costs\",\n",
    "        \"sale_proceeds\",\n",
    "        \"credit_enhancement_proceeds\",\n",
    "        \"repurchase_proceeds\",\n",
    "        \"other_foreclosure_proceeds\",\n",
    "        \"non_interest_bearing_balance\",\n",
    "        \"principal_forgiveness_balance\",\n",
    "        \"28\",\n",
    "        \"29\",\n",
    "        \"30\",\n",
    "        \"31\"\n",
    "    ]\n",
    "}"
   ]
  },
  {
   "cell_type": "code",
   "execution_count": 8,
   "metadata": {},
   "outputs": [],
   "source": [
    "SELECTED_HEADERS = {\n",
    "    \"Acquisition\": [\"id\", \"interest_rate\", \"origination_date\", \"ltv\", \"dti\", \"credit_score\"],\n",
    "    \"Performance\": [\"id\", \"foreclosure_date\"]\n",
    "}"
   ]
  },
  {
   "cell_type": "code",
   "execution_count": 7,
   "metadata": {},
   "outputs": [],
   "source": [
    "\n",
    "\n",
    "def concatenate(prefix=\"Acquisition\", path='/home/seb/Documents/prepayment/data/'):\n",
    "    dir_files = os.listdir(path)\n",
    "    full_file = []\n",
    "    processed_dest = '/home/seb/Documents/prepayment/processed/'\n",
    "    # concatenate all the files in the directory\n",
    "    \n",
    "    for f in dir_files:\n",
    "        if f.startswith(prefix):\n",
    "            print(os.path.join(path,f))\n",
    "            read_file=pd.read_csv(os.path.join(path,f),sep='|',header=None, names = HEADERS[prefix], index_col=False, error_bad_lines=False)\n",
    "            read_file=read_file[SELECTED_HEADERS[prefix]]\n",
    "            full_file.append(read_file)\n",
    "        else:\n",
    "            continue\n",
    "    full_file=pd.concat(full_file,axis=0)\n",
    "    \n",
    "    test=full_file.head(5)\n",
    "    # get shape of the file\n",
    "    # print(full_file.shape)\n",
    "\n",
    "    # convert the processed files - \n",
    "    full_file.to_csv(os.path.join(processed_dest, \"{}.csv\".format(prefix)), index=False)\n",
    "    "
   ]
  },
  {
   "cell_type": "code",
   "execution_count": 35,
   "metadata": {
    "scrolled": true
   },
   "outputs": [
    {
     "name": "stdout",
     "output_type": "stream",
     "text": [
      "/home/seb/Documents/prepayment/data/Acquisition_2014Q1.txt\n",
      "/home/seb/Documents/prepayment/data/Acquisition_2013Q4.txt\n",
      "/home/seb/Documents/prepayment/data/Acquisition_2014Q4.txt\n",
      "/home/seb/Documents/prepayment/data/Acquisition_2013Q3.txt\n",
      "/home/seb/Documents/prepayment/data/Acquisition_2014Q3.txt\n",
      "/home/seb/Documents/prepayment/data/Acquisition_2013Q2.txt\n",
      "/home/seb/Documents/prepayment/data/Acquisition_2014Q2.txt\n",
      "/home/seb/Documents/prepayment/data/Acquisition_2013Q1.txt\n"
     ]
    }
   ],
   "source": [
    "concatenate(\"Acquisition\")"
   ]
  },
  {
   "cell_type": "code",
   "execution_count": 10,
   "metadata": {},
   "outputs": [
    {
     "name": "stderr",
     "output_type": "stream",
     "text": [
      "/home/seb/anaconda3/envs/ml/lib/python3.7/site-packages/IPython/core/interactiveshell.py:3020: DtypeWarning: Columns (1) have mixed types. Specify dtype option on import or set low_memory=False.\n",
      "  interactivity=interactivity, compiler=compiler, result=result)\n"
     ]
    }
   ],
   "source": [
    "file = '/home/seb/Documents/prepayment/processed/Performance.csv'\n",
    "read_file=pd.read_csv(file)"
   ]
  },
  {
   "cell_type": "code",
   "execution_count": 14,
   "metadata": {},
   "outputs": [
    {
     "name": "stdout",
     "output_type": "stream",
     "text": [
      "                     id foreclosure_date\n",
      "0          100000041033              NaN\n",
      "1          100000041033              NaN\n",
      "2          100000041033              NaN\n",
      "3          100000041033              NaN\n",
      "4          100000041033              NaN\n",
      "5          100000041033              NaN\n",
      "6          100000041033              NaN\n",
      "7          100000041033              NaN\n",
      "8          100000041033              NaN\n",
      "9          100000041033              NaN\n",
      "10         100000041033              NaN\n",
      "11         100000041033              NaN\n",
      "12         100000041033              NaN\n",
      "13         100000041033              NaN\n",
      "14         100000041033              NaN\n",
      "15         100000041033              NaN\n",
      "16         100000041033              NaN\n",
      "17         100000041033              NaN\n",
      "18         100000041033              NaN\n",
      "19         100000041033              NaN\n",
      "20         100000041033              NaN\n",
      "21         100000041033              NaN\n",
      "22         100000041033              NaN\n",
      "23         100000041033              NaN\n",
      "24         100000041033              NaN\n",
      "25         100000154084              NaN\n",
      "26         100000154084              NaN\n",
      "27         100000154084              NaN\n",
      "28         100000154084              NaN\n",
      "29         100000154084              NaN\n",
      "...                 ...              ...\n",
      "180830038  999999141201              NaN\n",
      "180830039  999999141201              NaN\n",
      "180830040  999999141201              NaN\n",
      "180830041  999999141201              NaN\n",
      "180830042  999999141201              NaN\n",
      "180830043  999999141201              NaN\n",
      "180830044  999999141201              NaN\n",
      "180830045  999999141201              NaN\n",
      "180830046  999999141201              NaN\n",
      "180830047  999999141201              NaN\n",
      "180830048  999999141201              NaN\n",
      "180830049  999999141201              NaN\n",
      "180830050  999999141201              NaN\n",
      "180830051  999999141201              NaN\n",
      "180830052  999999141201              NaN\n",
      "180830053  999999141201              NaN\n",
      "180830054  999999141201              NaN\n",
      "180830055  999999141201              NaN\n",
      "180830056  999999141201              NaN\n",
      "180830057  999999141201              NaN\n",
      "180830058  999999141201              NaN\n",
      "180830059  999999141201              NaN\n",
      "180830060  999999141201              NaN\n",
      "180830061  999999141201              NaN\n",
      "180830062  999999141201              NaN\n",
      "180830063  999999141201              NaN\n",
      "180830064  999999141201              NaN\n",
      "180830065  999999141201              NaN\n",
      "180830066  999999141201              NaN\n",
      "180830067  999999141201              NaN\n",
      "\n",
      "[180830068 rows x 2 columns]\n"
     ]
    },
    {
     "data": {
      "text/plain": [
       "180825839"
      ]
     },
     "execution_count": 14,
     "metadata": {},
     "output_type": "execute_result"
    }
   ],
   "source": [
    "print (read_file)\n",
    "read_file.isnull().sum().sum()"
   ]
  },
  {
   "cell_type": "code",
   "execution_count": 9,
   "metadata": {
    "scrolled": true
   },
   "outputs": [
    {
     "name": "stdout",
     "output_type": "stream",
     "text": [
      "/home/seb/Documents/prepayment/data/Performance_2014Q4.txt\n",
      "/home/seb/Documents/prepayment/data/Performance_2014Q2.txt\n",
      "/home/seb/Documents/prepayment/data/Performance_2013Q4.txt\n",
      "/home/seb/Documents/prepayment/data/Performance_2013Q3.txt\n",
      "/home/seb/Documents/prepayment/data/Performance_2013Q1.txt\n",
      "/home/seb/Documents/prepayment/data/Performance_2014Q3.txt\n",
      "/home/seb/Documents/prepayment/data/Performance_2014Q1.txt\n",
      "/home/seb/Documents/prepayment/data/Performance_2013Q2.txt\n"
     ]
    }
   ],
   "source": [
    "concatenate('Performance')"
   ]
  },
  {
   "cell_type": "code",
   "execution_count": null,
   "metadata": {},
   "outputs": [],
   "source": [
    "file = '/home/seb/Documents/prepayment/data/Performance_2013Q1.txt'\n",
    "df = pd.read_csv(file, sep = \"|\", header=None, low_memory=False)\n",
    "df.columns = HEADERS['Performance']"
   ]
  },
  {
   "cell_type": "code",
   "execution_count": null,
   "metadata": {},
   "outputs": [],
   "source": []
  }
 ],
 "metadata": {
  "kernelspec": {
   "display_name": "Python 3",
   "language": "python",
   "name": "python3"
  },
  "language_info": {
   "codemirror_mode": {
    "name": "ipython",
    "version": 3
   },
   "file_extension": ".py",
   "mimetype": "text/x-python",
   "name": "python",
   "nbconvert_exporter": "python",
   "pygments_lexer": "ipython3",
   "version": "3.7.1"
  }
 },
 "nbformat": 4,
 "nbformat_minor": 2
}
